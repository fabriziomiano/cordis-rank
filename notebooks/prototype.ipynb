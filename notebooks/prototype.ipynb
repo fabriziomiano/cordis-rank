{
 "cells": [
  {
   "cell_type": "code",
   "execution_count": 3,
   "metadata": {},
   "outputs": [],
   "source": [
    "import pandas as pd\n",
    "import time \n",
    "\n",
    "from_url = False\n",
    "start = time.time()\n",
    "data_url = \"https://cordis.europa.eu/data/cordis-h2020organizations.csv\"\n",
    "if from_url:\n",
    "    df = pd.read_csv(data_url, delimiter=\";\", decimal=\",\", low_memory=False)\n",
    "    print(\"Data downloaded in {} seconds\".format(time.time() - start))\n",
    "else:\n",
    "    df = pd.read_csv(\"cordis-h2020organizations.csv\", delimiter=\";\", decimal=\",\", low_memory=False)"
   ]
  },
  {
   "cell_type": "code",
   "execution_count": 4,
   "metadata": {},
   "outputs": [],
   "source": [
    "# Select companies only\n",
    "df = df[df.activityType == \"PRC\"]\n",
    "interesting_columns = [\"name\", \"activityType\", \"ecContribution\", \"country\"]\n",
    "# drop rows where n/a is present\n",
    "df = df[interesting_columns].dropna()"
   ]
  },
  {
   "cell_type": "code",
   "execution_count": 5,
   "metadata": {},
   "outputs": [],
   "source": [
    "def print_total_ECcontribution(df):\n",
    "    total_contribution = df[df.name.str.contains(\"R2M\")].ecContribution.sum()\n",
    "    print(\"Tot EC contribution {}\".format(total_contribution))"
   ]
  },
  {
   "cell_type": "code",
   "execution_count": 6,
   "metadata": {},
   "outputs": [
    {
     "name": "stdout",
     "output_type": "stream",
     "text": [
      "Tot EC contribution 10290649.95\n"
     ]
    },
    {
     "data": {
      "text/plain": [
       "[253, 792, 2751, 9596]"
      ]
     },
     "execution_count": 6,
     "metadata": {},
     "output_type": "execute_result"
    }
   ],
   "source": [
    "# group by name and country, and sum the EC contribution\n",
    "print_total_ECcontribution(df)\n",
    "df_grouped = df.groupby([\"name\", \"country\"], as_index=False).sum()\n",
    "df_grouped = df_grouped.sort_values(by=\"ecContribution\", ascending=False).reset_index(drop=True)\n",
    "# save the new data frame\n",
    "df_grouped.to_csv(\"cordis-name-country-grouped.csv\", index=False)\n",
    "# get indices of rows containing \"R2M\" in the grouped data frame\n",
    "r2m_positions = df_grouped.index[df_grouped['name'].str.contains(\"R2M\")].tolist()\n",
    "r2m_positions"
   ]
  },
  {
   "cell_type": "code",
   "execution_count": 19,
   "metadata": {},
   "outputs": [
    {
     "data": {
      "text/html": [
       "<div>\n",
       "<style scoped>\n",
       "    .dataframe tbody tr th:only-of-type {\n",
       "        vertical-align: middle;\n",
       "    }\n",
       "\n",
       "    .dataframe tbody tr th {\n",
       "        vertical-align: top;\n",
       "    }\n",
       "\n",
       "    .dataframe thead th {\n",
       "        text-align: right;\n",
       "    }\n",
       "</style>\n",
       "<table border=\"1\" class=\"dataframe\">\n",
       "  <thead>\n",
       "    <tr style=\"text-align: right;\">\n",
       "      <th></th>\n",
       "      <th>Rank</th>\n",
       "      <th>Branch</th>\n",
       "      <th>Country</th>\n",
       "      <th>EC Contribution</th>\n",
       "    </tr>\n",
       "  </thead>\n",
       "  <tbody>\n",
       "    <tr>\n",
       "      <th>0</th>\n",
       "      <td>253</td>\n",
       "      <td>R2M SOLUTION SRL</td>\n",
       "      <td>IT</td>\n",
       "      <td>6106138.88</td>\n",
       "    </tr>\n",
       "    <tr>\n",
       "      <th>1</th>\n",
       "      <td>792</td>\n",
       "      <td>R2M SOLUTION</td>\n",
       "      <td>FR</td>\n",
       "      <td>2726124.69</td>\n",
       "    </tr>\n",
       "    <tr>\n",
       "      <th>2</th>\n",
       "      <td>2751</td>\n",
       "      <td>R2M SOLUTION SPAIN SL</td>\n",
       "      <td>ES</td>\n",
       "      <td>1209711.38</td>\n",
       "    </tr>\n",
       "    <tr>\n",
       "      <th>3</th>\n",
       "      <td>9596</td>\n",
       "      <td>R2M SOLUTION LTD</td>\n",
       "      <td>UK</td>\n",
       "      <td>248675.00</td>\n",
       "    </tr>\n",
       "  </tbody>\n",
       "</table>\n",
       "</div>"
      ],
      "text/plain": [
       "   Rank                 Branch Country  EC Contribution\n",
       "0   253       R2M SOLUTION SRL      IT       6106138.88\n",
       "1   792           R2M SOLUTION      FR       2726124.69\n",
       "2  2751  R2M SOLUTION SPAIN SL      ES       1209711.38\n",
       "3  9596       R2M SOLUTION LTD      UK        248675.00"
      ]
     },
     "execution_count": 19,
     "metadata": {},
     "output_type": "execute_result"
    }
   ],
   "source": [
    "df_r2m = df_grouped[df_grouped.name.str.contains(\"R2M\")]\n",
    "df_r2m.reset_index(inplace=True)\n",
    "df_r2m = df_r2m.rename(columns={\"index\":\"Rank\", \"name\":\"Branch\", \"country\": \"Country\", \"ecContribution\": \"EC Contribution\"})\n",
    "df_r2m"
   ]
  },
  {
   "cell_type": "code",
   "execution_count": null,
   "metadata": {},
   "outputs": [],
   "source": [
    "# don't make distinction between R2M branches \n",
    "df_unique_r2m = df_grouped.copy()\n",
    "df_unique_r2m[\"name\"] = df_unique_r2m[\"name\"].str.replace('R2M.*', 'R2M', regex=True)\n",
    "df_unique_r2m = df_unique_r2m.groupby([\"name\"], as_index=False).sum().sort_values(by=\"ecContribution\", ascending=False).reset_index(drop=True)\n",
    "df_unique_r2m.to_csv(\"cordis-name-country-grouped-r2m-nodistinction.csv\", index=False)"
   ]
  },
  {
   "cell_type": "code",
   "execution_count": null,
   "metadata": {},
   "outputs": [],
   "source": [
    "df_r2m.reset_index()"
   ]
  },
  {
   "cell_type": "code",
   "execution_count": 2,
   "metadata": {},
   "outputs": [
    {
     "data": {
      "text/plain": [
       "False"
      ]
     },
     "execution_count": 2,
     "metadata": {},
     "output_type": "execute_result"
    }
   ],
   "source": [
    "ciao = \"\"\n",
    "ciao == \"n\""
   ]
  },
  {
   "cell_type": "code",
   "execution_count": null,
   "metadata": {},
   "outputs": [],
   "source": []
  }
 ],
 "metadata": {
  "kernelspec": {
   "display_name": "Python 3",
   "language": "python",
   "name": "python3"
  },
  "language_info": {
   "codemirror_mode": {
    "name": "ipython",
    "version": 3
   },
   "file_extension": ".py",
   "mimetype": "text/x-python",
   "name": "python",
   "nbconvert_exporter": "python",
   "pygments_lexer": "ipython3",
   "version": "3.6.9"
  }
 },
 "nbformat": 4,
 "nbformat_minor": 4
}
